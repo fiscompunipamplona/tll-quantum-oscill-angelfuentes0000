{
 "cells": [
  {
   "cell_type": "markdown",
   "metadata": {},
   "source": [
    "# ecuacion schorodinger"
   ]
  },
  {
   "cell_type": "code",
   "execution_count": 51,
   "metadata": {},
   "outputs": [],
   "source": [
    "from numpy import array, linspace, arange, ndarray\n",
    "from math import sin, pi\n",
    "from pylab import plot, xlabel, ylabel, show\n",
    "from scipy.integrate import odeint\n"
   ]
  },
  {
   "cell_type": "code",
   "execution_count": 52,
   "metadata": {},
   "outputs": [],
   "source": [
    "# Constants\n",
    "m = 9.1094e-31     # Mass of electron\n",
    "hbar = 1.0546e-34  # Planck's constant over 2*pi\n",
    "e = 1.6022e-19     # Electron charge\n",
    "L = 5.2918e-11     # Bohr radius\n",
    "N = 1000\n",
    "h = L/N\n",
    "e = 1.6022e-19     # Electron charge"
   ]
  },
  {
   "cell_type": "code",
   "execution_count": 53,
   "metadata": {},
   "outputs": [],
   "source": [
    "# Potential function\n",
    "\n",
    "#def V(x):\n",
    " #   return vo*(x/L)*((x/L)-1)\n",
    "\n",
    "def f(r,x,m,hbar,E,L,v0):\n",
    " tmp = x/L ",
    "  vx= v0*(x/L)*((x/L)-1)\n",
    "    psi = r[0]\n",
    "    phi = r[1]\n",
    "    fpsi = phi \n",
    "    mm=(2*m/hbar**2)\n",
    "    fphi = mm*vx*psi-mm*E*psi\n",
    "    return array([fpsi,fphi],float)"
   ]
  },
  {
   "cell_type": "code",
   "execution_count": 54,
   "metadata": {},
   "outputs": [],
   "source": [
    "# Calculate the wavefunction for a particular energy\n",
    "E1=0.0\n",
    "E2=e\n",
    "psi = 0.0 ## condicion inicial\n",
    "phi = 1.0 # condicion inicial \n",
    "V0 = 100.*e",
    "r = array([psi,phi],float)\n",
   
    "a= 0  # intervalo de espacio\n",
    "b=L   # intervalo de espacio\n",
    "xx = linspace(a, b, 1000)\n",
    "a1 = odeint( f,r,xx,args=(m, hbar, E1, L, V0))",
    "psi2 = a1[999,0]",
    "\n"
    
   ]
  },
  {
   "cell_type": "code",
   "execution_count": 56,
   "metadata": {},
   "outputs": [
    {
     "name": "stdout",
     "output_type": "stream",
     "text": [
      "0.0\n",
      "3.2043999999999997e-18\n"
     ]
    }
   ],
   "source": [
   
    
    "\n",
    
   ]
  },
  {
   "cell_type": "code",
   "execution_count": 50,
   "metadata": {},
   "outputs": [
    {
     "name": "stderr",
     "output_type": "stream",
     "text": [
      "/home/angel/.local/lib/python3.6/site-packages/ipykernel_launcher.py:2: RuntimeWarning: invalid value encountered in greater\n",
      "  \n"
     ]
    },
    {
     "ename": "ValueError",
     "evalue": "The truth value of an array with more than one element is ambiguous. Use a.any() or a.all()",
     "output_type": "error",
     "traceback": [
      "\u001b[0;31m---------------------------------------------------------------------------\u001b[0m",
      "\u001b[0;31mValueError\u001b[0m                                Traceback (most recent call last)",
      "\u001b[0;32m<ipython-input-50-7d2b8223aa71>\u001b[0m in \u001b[0;36m<module>\u001b[0;34m\u001b[0m\n\u001b[1;32m      1\u001b[0m \u001b[0merror\u001b[0m \u001b[0;34m=\u001b[0m \u001b[0me\u001b[0m\u001b[0;34m/\u001b[0m\u001b[0;36m1000\u001b[0m\u001b[0;34m\u001b[0m\u001b[0;34m\u001b[0m\u001b[0m\n\u001b[0;32m----> 2\u001b[0;31m \u001b[0;32mwhile\u001b[0m \u001b[0mabs\u001b[0m\u001b[0;34m(\u001b[0m\u001b[0mE1\u001b[0m\u001b[0;34m-\u001b[0m\u001b[0mE2\u001b[0m\u001b[0;34m)\u001b[0m\u001b[0;34m>\u001b[0m\u001b[0merror\u001b[0m\u001b[0;34m:\u001b[0m\u001b[0;34m\u001b[0m\u001b[0;34m\u001b[0m\u001b[0m\n\u001b[0m\u001b[1;32m      3\u001b[0m     \u001b[0mpsi1\u001b[0m\u001b[0;34m,\u001b[0m \u001b[0ma1\u001b[0m \u001b[0;34m=\u001b[0m \u001b[0ma1\u001b[0m\u001b[0;34m,\u001b[0m\u001b[0ma2\u001b[0m\u001b[0;34m\u001b[0m\u001b[0;34m\u001b[0m\u001b[0m\n\u001b[1;32m      4\u001b[0m \u001b[0;34m\u001b[0m\u001b[0m\n\u001b[1;32m      5\u001b[0m     \u001b[0mE1\u001b[0m\u001b[0;34m,\u001b[0m \u001b[0mE2\u001b[0m \u001b[0;34m=\u001b[0m \u001b[0mE2\u001b[0m\u001b[0;34m,\u001b[0m \u001b[0mE2\u001b[0m \u001b[0;34m-\u001b[0m \u001b[0;34m(\u001b[0m \u001b[0ma1\u001b[0m\u001b[0;34m*\u001b[0m\u001b[0;34m(\u001b[0m\u001b[0mE2\u001b[0m\u001b[0;34m-\u001b[0m\u001b[0mE1\u001b[0m\u001b[0;34m)\u001b[0m \u001b[0;34m)\u001b[0m \u001b[0;34m/\u001b[0m \u001b[0;34m(\u001b[0m\u001b[0ma1\u001b[0m\u001b[0;34m-\u001b[0m\u001b[0mpsi1\u001b[0m\u001b[0;34m)\u001b[0m\u001b[0;34m\u001b[0m\u001b[0;34m\u001b[0m\u001b[0m\n",
      "\u001b[0;31mValueError\u001b[0m: The truth value of an array with more than one element is ambiguous. Use a.any() or a.all()"
     ]
    }
   ],
   "source": [
    "\n",
    "error = e/1000\n",
    "while abs(E1-E2)>error:\n",
    "    psi1=psi2\n",
    "solu = odeint( f,r,xx,args=(m, hbar, E2, L, V0))",
    " psi2 = solu[999,0]",
    "    \n",
    "    E1, E2 = E2, E2 - ( psi2*(E2-E1) ) / (psi2-psi1)\n",
    "\n",
    "print(\"E =\",E2/e,\"eV\")"
   ]
  },
  {
   "cell_type": "code",
   "execution_count": null,
   "metadata": {},
   "outputs": [],
   "source": []
  }
 ],
 "metadata": {
  "kernelspec": {
   "display_name": "Python 3",
   "language": "python",
   "name": "python3"
  },
  "language_info": {
   "codemirror_mode": {
    "name": "ipython",
    "version": 3
   },
   "file_extension": ".py",
   "mimetype": "text/x-python",
   "name": "python",
   "nbconvert_exporter": "python",
   "pygments_lexer": "ipython3",
   "version": "3.5.2"
  }
 },
 "nbformat": 4,
 "nbformat_minor": 2
}
